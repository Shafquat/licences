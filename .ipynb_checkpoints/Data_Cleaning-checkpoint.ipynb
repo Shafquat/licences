{
 "cells": [
  {
   "cell_type": "code",
   "execution_count": 58,
   "metadata": {},
   "outputs": [],
   "source": [
    "import pandas as pd\n",
    "import numpy as np\n",
    "path = \"D:/Dropbox/Data/20-03-25 COD data work/\""
   ]
  },
  {
   "cell_type": "code",
   "execution_count": 59,
   "metadata": {},
   "outputs": [],
   "source": [
    "licences = pd.read_csv(path + \"20-03-27 Data_cleaning_locations/licences.csv\")"
   ]
  },
  {
   "cell_type": "code",
   "execution_count": 60,
   "metadata": {},
   "outputs": [],
   "source": [
    "# Name Update\n",
    "licences['Name'] = licences['Operating Name'].fillna(licences['Client Name'])"
   ]
  },
  {
   "cell_type": "code",
   "execution_count": 18,
   "metadata": {},
   "outputs": [],
   "source": [
    "pharmacies = pd.read_csv(path + \"20-03-22 Toronto-locations/pharmacies.csv\")\n",
    "#supermarkets = pd.read_csv(path + \"20-03-22 Toronto-locations/supermarkets.csv\")"
   ]
  },
  {
   "cell_type": "code",
   "execution_count": 66,
   "metadata": {
    "collapsed": true
   },
   "outputs": [],
   "source": [
    "# Takes an array of unique names and a string of keys and consolidates them\n",
    "def array_to_string(array,keys):\n",
    "    for name in array.tolist():\n",
    "        keys += \"|\" + str(name).upper()\n",
    "    return keys"
   ]
  },
  {
   "cell_type": "code",
   "execution_count": 69,
   "metadata": {},
   "outputs": [],
   "source": [
    "hardcoded = 'PHARMA|DRUG'\n",
    "pharma_keys = array_to_string(pharmacies['Name'].unique(),hardcoded)"
   ]
  },
  {
   "cell_type": "code",
   "execution_count": 71,
   "metadata": {},
   "outputs": [
    {
     "name": "stderr",
     "output_type": "stream",
     "text": [
      "D:\\Software\\lib\\site-packages\\ipykernel_launcher.py:1: UserWarning: This pattern has match groups. To actually get the groups, use str.extract.\n",
      "  \"\"\"Entry point for launching an IPython kernel.\n"
     ]
    }
   ],
   "source": [
    "licences.loc[licences['Name'].str.contains(pharma_keys),'Category'] = \"PHARMACY\""
   ]
  },
  {
   "cell_type": "code",
   "execution_count": 75,
   "metadata": {},
   "outputs": [],
   "source": [
    "licences.to_csv(path + \"20-03-27 Data_cleaning_locations/licences_pharmacies.csv\", index=False)"
   ]
  },
  {
   "cell_type": "code",
   "execution_count": null,
   "metadata": {
    "collapsed": true
   },
   "outputs": [],
   "source": []
  }
 ],
 "metadata": {
  "kernelspec": {
   "display_name": "Python 3",
   "language": "python",
   "name": "python3"
  },
  "language_info": {
   "codemirror_mode": {
    "name": "ipython",
    "version": 3
   },
   "file_extension": ".py",
   "mimetype": "text/x-python",
   "name": "python",
   "nbconvert_exporter": "python",
   "pygments_lexer": "ipython3",
   "version": "3.6.1"
  }
 },
 "nbformat": 4,
 "nbformat_minor": 2
}
